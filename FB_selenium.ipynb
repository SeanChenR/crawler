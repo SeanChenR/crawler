{
 "cells": [
  {
   "cell_type": "code",
   "execution_count": 2,
   "id": "08a6bb53",
   "metadata": {},
   "outputs": [
    {
     "name": "stdout",
     "output_type": "stream",
     "text": [
      "Requirement already satisfied: selenium in c:\\users\\angus\\anaconda3\\lib\\site-packages (4.1.0)\n",
      "Requirement already satisfied: trio~=0.17 in c:\\users\\angus\\anaconda3\\lib\\site-packages (from selenium) (0.19.0)\n",
      "Requirement already satisfied: trio-websocket~=0.9 in c:\\users\\angus\\anaconda3\\lib\\site-packages (from selenium) (0.9.2)\n",
      "Requirement already satisfied: urllib3[secure]~=1.26 in c:\\users\\angus\\anaconda3\\lib\\site-packages (from selenium) (1.26.4)\n",
      "Requirement already satisfied: async-generator>=1.9 in c:\\users\\angus\\anaconda3\\lib\\site-packages (from trio~=0.17->selenium) (1.10)\n",
      "Requirement already satisfied: idna in c:\\users\\angus\\anaconda3\\lib\\site-packages (from trio~=0.17->selenium) (2.10)\n",
      "Requirement already satisfied: sniffio in c:\\users\\angus\\anaconda3\\lib\\site-packages (from trio~=0.17->selenium) (1.2.0)\n",
      "Requirement already satisfied: cffi>=1.14 in c:\\users\\angus\\anaconda3\\lib\\site-packages (from trio~=0.17->selenium) (1.14.5)\n",
      "Requirement already satisfied: attrs>=19.2.0 in c:\\users\\angus\\anaconda3\\lib\\site-packages (from trio~=0.17->selenium) (20.3.0)\n",
      "Requirement already satisfied: outcome in c:\\users\\angus\\anaconda3\\lib\\site-packages (from trio~=0.17->selenium) (1.1.0)\n",
      "Requirement already satisfied: sortedcontainers in c:\\users\\angus\\anaconda3\\lib\\site-packages (from trio~=0.17->selenium) (2.3.0)\n",
      "Requirement already satisfied: wsproto>=0.14 in c:\\users\\angus\\anaconda3\\lib\\site-packages (from trio-websocket~=0.9->selenium) (1.0.0)\n",
      "Requirement already satisfied: pyOpenSSL>=0.14 in c:\\users\\angus\\anaconda3\\lib\\site-packages (from urllib3[secure]~=1.26->selenium) (20.0.1)\n",
      "Requirement already satisfied: certifi in c:\\users\\angus\\anaconda3\\lib\\site-packages (from urllib3[secure]~=1.26->selenium) (2020.12.5)\n",
      "Requirement already satisfied: cryptography>=1.3.4 in c:\\users\\angus\\anaconda3\\lib\\site-packages (from urllib3[secure]~=1.26->selenium) (3.4.7)\n",
      "Requirement already satisfied: pycparser in c:\\users\\angus\\anaconda3\\lib\\site-packages (from cffi>=1.14->trio~=0.17->selenium) (2.20)\n",
      "Requirement already satisfied: six>=1.5.2 in c:\\users\\angus\\anaconda3\\lib\\site-packages (from pyOpenSSL>=0.14->urllib3[secure]~=1.26->selenium) (1.15.0)\n",
      "Requirement already satisfied: h11<1,>=0.9.0 in c:\\users\\angus\\anaconda3\\lib\\site-packages (from wsproto>=0.14->trio-websocket~=0.9->selenium) (0.12.0)\n"
     ]
    },
    {
     "name": "stderr",
     "output_type": "stream",
     "text": [
      "WARNING: There was an error checking the latest version of pip.\n"
     ]
    }
   ],
   "source": [
    "!pip install selenium"
   ]
  },
  {
   "cell_type": "code",
   "execution_count": 3,
   "id": "37063533",
   "metadata": {},
   "outputs": [],
   "source": [
    "from selenium import webdriver"
   ]
  },
  {
   "cell_type": "code",
   "execution_count": 12,
   "id": "c9507538",
   "metadata": {},
   "outputs": [
    {
     "name": "stderr",
     "output_type": "stream",
     "text": [
      "<ipython-input-12-f284d7be6771>:1: DeprecationWarning: executable_path has been deprecated, please pass in a Service object\n",
      "  driver = webdriver.Chrome(\"C:/Users/angus/chromedriver\")\n"
     ]
    }
   ],
   "source": [
    "driver = webdriver.Chrome(\"C:/Users/angus/chromedriver\")\n",
    "driver.get(\"http://www.google.com\")"
   ]
  },
  {
   "cell_type": "code",
   "execution_count": 5,
   "id": "8c229e79",
   "metadata": {},
   "outputs": [],
   "source": [
    "from selenium.webdriver.common.by import By"
   ]
  },
  {
   "cell_type": "code",
   "execution_count": 11,
   "id": "577d9ec9",
   "metadata": {},
   "outputs": [],
   "source": [
    "#定位搜尋框\n",
    "element = driver.find_element(By.CLASS_NAME , \"gLFyf.gsfi\")\n",
    "#傳入字串\n",
    "element.send_keys(\"iphone14 Pro Max\")\n",
    "#點選確定\n",
    "from selenium.webdriver.common.keys import Keys\n",
    "driver.find_element(By.NAME , \"q\").send_keys(Keys.ENTER)"
   ]
  },
  {
   "cell_type": "code",
   "execution_count": 14,
   "id": "3f87086e",
   "metadata": {},
   "outputs": [],
   "source": [
    "#關閉Chrome\n",
    "#driver.quit()"
   ]
  },
  {
   "cell_type": "code",
   "execution_count": 1,
   "id": "ff7d660a",
   "metadata": {},
   "outputs": [],
   "source": [
    "from selenium import webdriver\n",
    "from selenium.webdriver.common.by import By\n",
    "from selenium.webdriver.common.keys import Keys\n",
    "from selenium.webdriver.support.wait import WebDriverWait\n",
    "from selenium.webdriver.support import expected_conditions as EC\n",
    "from bs4 import BeautifulSoup\n",
    "from pandas.core.frame import DataFrame\n",
    "import requests\n",
    "import os\n",
    "import time\n",
    "import pandas as pd"
   ]
  },
  {
   "cell_type": "code",
   "execution_count": 8,
   "id": "2972c583",
   "metadata": {},
   "outputs": [
    {
     "name": "stderr",
     "output_type": "stream",
     "text": [
      "<ipython-input-8-5127e7dfd8b5>:12: DeprecationWarning: executable_path has been deprecated, please pass in a Service object\n",
      "  driver = webdriver.Chrome(\"C:/Users/angus/chromedriver\")\n"
     ]
    },
    {
     "name": "stdout",
     "output_type": "stream",
     "text": [
      "scroll\n",
      "scroll\n",
      "scroll\n",
      "就像命中注定，#溏心蛋 是拉麵最合適的靈魂伴侶。\n",
      "​\n",
      "一燈原味蛋／ITTO酒味蛋\n",
      "從原料選用、醬料比例、浸泡時間都立下S.O.P，\n",
      "曾經回饋酒味過度濃烈的問題，…… 顯示更多\n",
      "------------------------------\n",
      "「沒有一款拉麵可以符合所有人的口味，\n",
      "但對於製麵的真心一定能透過一碗溫暖細細傳達。」\n",
      "​\n",
      "秉持坂本社長對麵屋一燈的初心，\n",
      "我們希望能藉由每一季的限定口味，…… 顯示更多\n",
      "------------------------------\n",
      "除了主角，\n",
      "我們也努力磨練配角的完美搭配！\n",
      "​\n",
      "品嚐麵之餘，更有多元化的套餐可升級：\n",
      "​…… 顯示更多\n",
      "------------------------------\n",
      "❖沒有人看見、為什麼仍堅持要做？​\n",
      "​\n",
      "#用踏實的方法做真材實料的拉麵​\n",
      "​\n",
      "讓一碗麵「感覺」濃郁鮮美又好吃，​…… 顯示更多\n",
      "------------------------------\n",
      "第1張圖片下載完成!\n",
      "第2張圖片下載完成!\n",
      "第3張圖片下載完成!\n",
      "第4張圖片下載完成!\n",
      "第5張圖片下載完成!\n"
     ]
    }
   ],
   "source": [
    "#FB登入\n",
    "options = webdriver.ChromeOptions()\n",
    "\n",
    "prefs = {'profile.default_content_setting_values':\n",
    "        {\n",
    "                'notifications': 2    \n",
    "        }\n",
    "}\n",
    "\n",
    "options.add_experimental_option('prefs' , prefs)\n",
    "\n",
    "driver = webdriver.Chrome(\"C:/Users/angus/chromedriver\")\n",
    "\n",
    "url = \"https://www.facebook.com\"\n",
    "username = \"angus.chen90@yahoo.com.tw\"\n",
    "password = \"sowon1207\"\n",
    "\n",
    "driver.get(url)\n",
    "\n",
    "WebDriverWait(driver , 30).until(EC.presence_of_element_located((By.XPATH , '//*[@id=\"email\"]')))\n",
    "elem = driver.find_element(By.ID , \"email\")\n",
    "elem.send_keys(username)\n",
    "\n",
    "elem = driver.find_element(By.ID , \"pass\")\n",
    "elem.send_keys(password)\n",
    "\n",
    "elem.send_keys(Keys.RETURN)\n",
    "time.sleep(5)\n",
    "\n",
    "spec_url = \"https://www.facebook.com/menyaittotw\"\n",
    "driver.get(spec_url)\n",
    "time.sleep(5)\n",
    "\n",
    "#爬蟲\n",
    "for x in range(3):\n",
    "    driver.execute_script(\"window.scrollTo(0,document.body.scrollBeight)\")\n",
    "    print(\"scroll\")\n",
    "    time.sleep(5)\n",
    "    \n",
    "root = BeautifulSoup(driver.page_source , \"html.parser\")\n",
    "\n",
    "titles = root.find_all(\"div\" , class_=\"xdj266r x11i5rnm xat24cr x1mh8g0r x1vvkbs x126k92a\")\n",
    "\n",
    "homework = []\n",
    "\n",
    "for title in titles:\n",
    "    posts = title.find_all(\"div\" , dir=\"auto\")\n",
    "    if len(posts) != 0:\n",
    "        for post in posts:\n",
    "            print(post.text)\n",
    "            homework.append(post.text)\n",
    "    print(\"-\"*30)\n",
    "    \n",
    "if not os.path.exists(\"images\"):\n",
    "    os.mkdir(\"images\")\n",
    "    \n",
    "images = root.find_all(\n",
    "        \"img\" , class_=[\"x1ey2m1c xds687c x5yr21d x10l6tqk x17qophe x13vifvy xh8yej3 xl1xv1r\",\n",
    "                                \"x1ey2m1c xds687c x5yr21d x10l6tqk x17qophe x13vifvy xh8yej3\"])\n",
    "\n",
    "if len(images) != 0:\n",
    "    for index , image in enumerate(images):\n",
    "        img = requests.get(image[\"src\"])\n",
    "        with open(f\"images/img{index+1}.jpg\" , \"wb\") as file:\n",
    "            file.write(img.content)\n",
    "        print(f\"第{index+1}張圖片下載完成!\")\n",
    "    \n",
    "time.sleep(5)\n",
    "#driver.quit()"
   ]
  },
  {
   "cell_type": "code",
   "execution_count": 27,
   "id": "70214744",
   "metadata": {},
   "outputs": [],
   "source": [
    "data = []\n",
    "content = \"\"\n",
    "for i in homework:\n",
    "    content += i\n",
    "    if \"顯示更多\" in content:\n",
    "        data.append(content)\n",
    "        content = \"\""
   ]
  },
  {
   "cell_type": "code",
   "execution_count": 32,
   "id": "6da1d27e",
   "metadata": {},
   "outputs": [],
   "source": [
    "df = pd.DataFrame({\"content\" : data})\n",
    "df.to_csv('selenium_homework.csv' , index = False , encoding = 'utf_8_sig')"
   ]
  },
  {
   "cell_type": "code",
   "execution_count": 33,
   "id": "feff0261",
   "metadata": {},
   "outputs": [
    {
     "data": {
      "text/html": [
       "<div>\n",
       "<style scoped>\n",
       "    .dataframe tbody tr th:only-of-type {\n",
       "        vertical-align: middle;\n",
       "    }\n",
       "\n",
       "    .dataframe tbody tr th {\n",
       "        vertical-align: top;\n",
       "    }\n",
       "\n",
       "    .dataframe thead th {\n",
       "        text-align: right;\n",
       "    }\n",
       "</style>\n",
       "<table border=\"1\" class=\"dataframe\">\n",
       "  <thead>\n",
       "    <tr style=\"text-align: right;\">\n",
       "      <th></th>\n",
       "      <th>content</th>\n",
       "    </tr>\n",
       "  </thead>\n",
       "  <tbody>\n",
       "    <tr>\n",
       "      <th>0</th>\n",
       "      <td>就像命中注定，#溏心蛋 是拉麵最合適的靈魂伴侶。​一燈原味蛋／ITTO酒味蛋從原料選用、醬料...</td>\n",
       "    </tr>\n",
       "    <tr>\n",
       "      <th>1</th>\n",
       "      <td>「沒有一款拉麵可以符合所有人的口味，但對於製麵的真心一定能透過一碗溫暖細細傳達。」​秉持坂本...</td>\n",
       "    </tr>\n",
       "    <tr>\n",
       "      <th>2</th>\n",
       "      <td>除了主角，我們也努力磨練配角的完美搭配！​品嚐麵之餘，更有多元化的套餐可升級：​…… 顯示更多</td>\n",
       "    </tr>\n",
       "    <tr>\n",
       "      <th>3</th>\n",
       "      <td>❖沒有人看見、為什麼仍堅持要做？​​#用踏實的方法做真材實料的拉麵​​讓一碗麵「感覺」濃郁鮮...</td>\n",
       "    </tr>\n",
       "  </tbody>\n",
       "</table>\n",
       "</div>"
      ],
      "text/plain": [
       "                                             content\n",
       "0  就像命中注定，#溏心蛋 是拉麵最合適的靈魂伴侶。​一燈原味蛋／ITTO酒味蛋從原料選用、醬料...\n",
       "1  「沒有一款拉麵可以符合所有人的口味，但對於製麵的真心一定能透過一碗溫暖細細傳達。」​秉持坂本...\n",
       "2    除了主角，我們也努力磨練配角的完美搭配！​品嚐麵之餘，更有多元化的套餐可升級：​…… 顯示更多\n",
       "3  ❖沒有人看見、為什麼仍堅持要做？​​#用踏實的方法做真材實料的拉麵​​讓一碗麵「感覺」濃郁鮮..."
      ]
     },
     "execution_count": 33,
     "metadata": {},
     "output_type": "execute_result"
    }
   ],
   "source": [
    "df"
   ]
  },
  {
   "cell_type": "code",
   "execution_count": null,
   "id": "ee28046b",
   "metadata": {},
   "outputs": [],
   "source": []
  }
 ],
 "metadata": {
  "kernelspec": {
   "display_name": "Python 3",
   "language": "python",
   "name": "python3"
  },
  "language_info": {
   "codemirror_mode": {
    "name": "ipython",
    "version": 3
   },
   "file_extension": ".py",
   "mimetype": "text/x-python",
   "name": "python",
   "nbconvert_exporter": "python",
   "pygments_lexer": "ipython3",
   "version": "3.8.8"
  }
 },
 "nbformat": 4,
 "nbformat_minor": 5
}
