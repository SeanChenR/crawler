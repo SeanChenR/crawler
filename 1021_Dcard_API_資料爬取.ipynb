{
 "cells": [
  {
   "cell_type": "code",
   "execution_count": 12,
   "id": "48f50f85",
   "metadata": {},
   "outputs": [
    {
     "data": {
      "image/png": "[encoded data removed]",
      "text/plain": [
       "<Figure size 432x288 with 1 Axes>"
      ]
     },
     "metadata": {
      "needs_background": "light"
     },
     "output_type": "display_data"
    }
   ],
   "source": [
    "import requests , json\n",
    "\n",
    "import matplotlib.pyplot as plt\n",
    "\n",
    "url = \"https://www.dcard.tw/_api/forums/dressup/posts?popular=true\"\n",
    "\n",
    "res = requests.get(url , headers = {\"User-agent\" : \"Mozilla/5.0 (Windows NT 10.0; Win64; x64) AppleWebKit/537.36 (KHTML, like Gecko) Chrome/94.0.4606.81 Safari/537.36\"})\n",
    "\n",
    "resjson = json.loads(res.text)\n",
    "\n",
    "gender_count = {'F':0 , 'M':0 , 'D':0}\n",
    "\n",
    "for outcome in resjson:\n",
    "      gender_count[outcome['gender']] = gender_count[outcome['gender']]+1\n",
    "    \n",
    "figure_name = ['Female' , 'Male' , \"客服小天使\"]\n",
    "\n",
    "total = [gender_count['F'] , gender_count['M'] , gender_count['D']]\n",
    "\n",
    "plt.bar(figure_name , total)\n",
    "\n",
    "plt.rcParams['font.sans-serif'] = ['DFKai-SB']"
   ]
  },
  {
   "cell_type": "code",
   "execution_count": null,
   "id": "3fda936c",
   "metadata": {},
   "outputs": [],
   "source": []
  }
 ],
 "metadata": {
  "kernelspec": {
   "display_name": "Python 3",
   "language": "python",
   "name": "python3"
  },
  "language_info": {
   "codemirror_mode": {
    "name": "ipython",
    "version": 3
   },
   "file_extension": ".py",
   "mimetype": "text/x-python",
   "name": "python",
   "nbconvert_exporter": "python",
   "pygments_lexer": "ipython3",
   "version": "3.8.8"
  }
 },
 "nbformat": 4,
 "nbformat_minor": 5
}
